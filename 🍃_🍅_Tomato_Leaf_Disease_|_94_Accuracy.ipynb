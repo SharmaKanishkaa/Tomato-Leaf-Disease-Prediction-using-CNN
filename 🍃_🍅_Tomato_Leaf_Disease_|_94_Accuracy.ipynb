{
  "metadata": {
    "kernelspec": {
      "language": "python",
      "display_name": "Python 3",
      "name": "python3"
    },
    "language_info": {
      "name": "python",
      "version": "3.10.13",
      "mimetype": "text/x-python",
      "codemirror_mode": {
        "name": "ipython",
        "version": 3
      },
      "pygments_lexer": "ipython3",
      "nbconvert_exporter": "python",
      "file_extension": ".py"
    },
    "kaggle": {
      "accelerator": "none",
      "dataSources": [
        {
          "sourceId": 1105687,
          "sourceType": "datasetVersion",
          "datasetId": 619181
        }
      ],
      "dockerImageVersionId": 30646,
      "isInternetEnabled": true,
      "language": "python",
      "sourceType": "notebook",
      "isGpuEnabled": false
    },
    "colab": {
      "name": "🍃 🍅 Tomato Leaf Disease | 94% Accuracy",
      "provenance": [],
      "include_colab_link": true
    }
  },
  "nbformat_minor": 0,
  "nbformat": 4,
  "cells": [
    {
      "cell_type": "markdown",
      "metadata": {
        "id": "view-in-github",
        "colab_type": "text"
      },
      "source": [
        "<a href=\"https://colab.research.google.com/github/SharmaKanishkaa/Tomato-Leaf-Disease-Prediction-using-CNN/blob/main/%F0%9F%8D%83_%F0%9F%8D%85_Tomato_Leaf_Disease_%7C_94_Accuracy.ipynb\" target=\"_parent\"><img src=\"https://colab.research.google.com/assets/colab-badge.svg\" alt=\"Open In Colab\"/></a>"
      ]
    },
    {
      "cell_type": "markdown",
      "source": [
        "<div style=\"border-radius: 30px 0 30px 0px; border: 2px solid #00ea98; padding: 20px; background-color: #0a141b; text-align: center; box-shadow: 0px 2px 4px rgba(0, 0, 0, 0.2);\">\n",
        "    <h1 style=\"color: #7ab052; text-shadow: 2px 2px 4px rgba(0, 0, 0, 0.5); font-weight: bold; margin-bottom: 10px; font-size: 36px;\">🍅🍃 Tomato Leaf Ninja: 🥋 Slicing through Diseases with 94% Accuracy!</h1>\n",
        "</div>\n"
      ],
      "metadata": {
        "id": "zMX-bJMkD3jq"
      }
    },
    {
      "cell_type": "markdown",
      "source": [
        "\n",
        "---\n",
        "## 1. ***Problem Statement***\n",
        "---\n",
        "\n",
        "-  Given a dataset of tomato leaf images, the task is to develop a machine learning model that can accurately classify the images into different disease categories. The goal is to help farmers quickly identify and treat diseased tomato plants, thereby improving crop yield and reducing losses.\n",
        "---\n",
        "## 2. ***Our Working***\n",
        "---\n",
        "\n",
        "-  We are using a dataset containing images of tomato leaves affected by various diseases. Our approach involves training a deep learning model on this dataset to classify each image into one of the disease categories. By analyzing the patterns and features in the images, the model can learn to differentiate between healthy and diseased leaves, aiding in the early detection and management of plant diseases."
      ],
      "metadata": {
        "id": "Poi5K_GkD3j4"
      }
    },
    {
      "cell_type": "markdown",
      "source": [
        "> # ***About The Data***"
      ],
      "metadata": {
        "id": "ZaAdo1O3D3j5"
      }
    },
    {
      "cell_type": "markdown",
      "source": [
        "---\n",
        "## 1. ***Dataset Description:***\n",
        "---\n",
        "\n",
        "-  We are using a dataset containing images of tomato leaves affected by various diseases. Each image is labeled with the corresponding disease category.Training dataset contain 10000 labeled images and test/val data contain 1000 labeled images\n",
        "---\n",
        "## 2. ***Data Preprocessing***\n",
        "----\n",
        "\n",
        "-  We load the dataset and preprocess the images to prepare them for training. This includes resizing the images to a consistent size and normalizing the pixel values.We also split the dataset into training and validation sets to evaluate the model's performance.\n",
        "---\n",
        "## 3. ***Model Building***\n",
        "---\n",
        "\n",
        "- We use a deep learning model, such as a Convolutional Neural Network (CNN), to learn features from the images and classify them into disease categories.The model consists of layers that extract patterns and features from the images, followed by fully connected layers for classification.\n",
        "----\n",
        "## 4. ***Training the Model:***\n",
        "----\n",
        "\n",
        "- We train the model using the training dataset, adjusting the model's weights based on the difference between predicted and actual disease categories.During training, we monitor the model's performance on the validation set to avoid overfitting.\n",
        "---\n",
        "## 5. ***Model Evaluation:***\n",
        "----\n",
        "\n",
        "- After training, we evaluate the model's performance on the validation set to assess its ability to generalize to new, unseen data.We use metrics such as accuracy to measure the model's performance.\n",
        "----\n",
        "## 6. ***Inference:***\n",
        "---\n",
        "\n",
        "- **Once the model is trained and evaluated, we can use it to classify new tomato leaf images into disease categories.**\n",
        "\n",
        "***```This inference step is crucial for real-world applications, where the model is used to assist farmers in diagnosing plant diseases.\n",
        "By understanding the working of this code, beginners and others can gain insights into how machine learning models are developed and deployed for practical applications like plant disease classification.```***"
      ],
      "metadata": {
        "id": "oHO3VzRbD3j7"
      }
    },
    {
      "cell_type": "markdown",
      "source": [
        "<div style=\"border-radius: 30px 0 30px 0px; border: 2px solid #00ea98; padding: 20px; background-color: #0a141b; text-align: center; box-shadow: 0px 2px 4px rgba(0, 0, 0, 0.2);\">\n",
        "    <h1 style=\"color: #7ab052; text-shadow: 2px 2px 4px rgba(0, 0, 0, 0.5); font-weight: bold; margin-bottom: 10px;\">  1 | Importing The Libraries</h1>\n",
        "</div>"
      ],
      "metadata": {
        "id": "kSqA5KAbD3j8"
      }
    },
    {
      "cell_type": "code",
      "source": [
        "import os  # Operating system interfaces\n",
        "import tensorflow as tf                                    # TensorFlow deep learning framework\n",
        "import matplotlib.pyplot as plt                            # Plotting library\n",
        "import matplotlib.image as mpimg                           # Image loading and manipulation library\n",
        "from tensorflow.keras.models import Sequential, Model      # Sequential and Functional API for building models\n",
        "from tensorflow.keras.optimizers import Adam               # Adam optimizer for model training\n",
        "from tensorflow.keras.callbacks import EarlyStopping       # Early stopping callback for model training\n",
        "from tensorflow.keras.regularizers import l1, l2           # L1 and L2 regularization for model regularization\n",
        "from tensorflow.keras.preprocessing.image import ImageDataGenerator  # Data augmentation and preprocessing for images\n",
        "from tensorflow.keras.layers import Dense, Flatten, Dropout, GlobalAveragePooling2D, AveragePooling2D, MaxPooling2D, BatchNormalization\n",
        "# Various types of layers for building neural networks\n",
        "from tensorflow.keras.applications import DenseNet121, EfficientNetB4, Xception, VGG16, VGG19   # Pre-trained models for transfer learning"
      ],
      "metadata": {
        "execution": {
          "iopub.status.busy": "2024-02-25T18:08:49.397851Z",
          "iopub.execute_input": "2024-02-25T18:08:49.398492Z",
          "iopub.status.idle": "2024-02-25T18:08:49.416926Z",
          "shell.execute_reply.started": "2024-02-25T18:08:49.398438Z",
          "shell.execute_reply": "2024-02-25T18:08:49.415742Z"
        },
        "trusted": true,
        "id": "Imnkcnm-D3j9"
      },
      "outputs": [],
      "execution_count": null
    },
    {
      "cell_type": "markdown",
      "source": [
        "<div style=\"border-radius: 30px 0 30px 0px; border: 2px solid #00ea98; padding: 20px; background-color: #0a141b; text-align: center; box-shadow: 0px 2px 4px rgba(0, 0, 0, 0.2);\">\n",
        "    <h1 style=\"color: #7ab052; text-shadow: 2px 2px 4px rgba(0, 0, 0, 0.5); font-weight: bold; margin-bottom: 10px;\"> 2 | Loading The DataSet</h1>\n",
        "</div>"
      ],
      "metadata": {
        "id": "4uQHy4gnD3j-"
      }
    },
    {
      "cell_type": "markdown",
      "source": [
        "**WORKING**\n",
        "- The `image_dataset_from_directory` function is used to load image data from a directory.\n",
        "- Images are resized to 256x256 pixels and grouped into batches of 32 for training efficiency.\n",
        "- Labels are inferred from the directory structure and represented in a categorical format.\n",
        "- Pixel values of the images are normalized to a range of [0, 1] by dividing by 255.0."
      ],
      "metadata": {
        "id": "NQTrySTKD3j_"
      }
    },
    {
      "cell_type": "code",
      "source": [
        "train_data = tf.keras.utils.image_dataset_from_directory(\n",
        "    '/kaggle/input/tomatoleaf/tomato/train',\n",
        "    labels='inferred',\n",
        "    label_mode='categorical',\n",
        "    image_size=(256, 256),\n",
        "    batch_size=32)\n",
        "\n",
        "train_data = train_data.map(lambda x, y: (x / 255.0, y))"
      ],
      "metadata": {
        "execution": {
          "iopub.status.busy": "2024-02-25T18:08:53.481294Z",
          "iopub.execute_input": "2024-02-25T18:08:53.48161Z",
          "iopub.status.idle": "2024-02-25T18:08:54.264917Z",
          "shell.execute_reply.started": "2024-02-25T18:08:53.481584Z",
          "shell.execute_reply": "2024-02-25T18:08:54.263807Z"
        },
        "trusted": true,
        "id": "oON0sRfVD3kB"
      },
      "outputs": [],
      "execution_count": null
    },
    {
      "cell_type": "markdown",
      "source": [
        "**WORKING**\n",
        "- The image_dataset_from_directory function is used to load validation image data from a directory.\n",
        "- Images are resized to 256x256 pixels and grouped into batches of 32 for efficient processing.\n",
        "- Labels are inferred from the directory structure and represented in a categorical format.\n",
        "- Pixel values of the images are normalized to a range of [0, 1] by dividing by 255.0 for consistent model training."
      ],
      "metadata": {
        "id": "RhRkzQFyD3kC"
      }
    },
    {
      "cell_type": "code",
      "source": [
        "val_data = tf.keras.preprocessing.image_dataset_from_directory(\n",
        "    '/kaggle/input/tomatoleaf/tomato/val',\n",
        "    labels='inferred',\n",
        "    label_mode='categorical',\n",
        "    image_size=(256, 256),\n",
        "    batch_size=32)\n",
        "\n",
        "val_data = val_data.map(lambda x, y: (x / 255.0, y))"
      ],
      "metadata": {
        "execution": {
          "iopub.status.busy": "2024-02-25T18:08:56.524321Z",
          "iopub.execute_input": "2024-02-25T18:08:56.52526Z",
          "iopub.status.idle": "2024-02-25T18:08:56.789488Z",
          "shell.execute_reply.started": "2024-02-25T18:08:56.525221Z",
          "shell.execute_reply": "2024-02-25T18:08:56.788242Z"
        },
        "trusted": true,
        "id": "TL5ykQfeD3kD"
      },
      "outputs": [],
      "execution_count": null
    },
    {
      "cell_type": "markdown",
      "source": [
        "<div style=\"border-radius: 30px 0 30px 0px; border: 2px solid #00ea98; padding: 20px; background-color: #0a141b; text-align: center; box-shadow: 0px 2px 4px rgba(0, 0, 0, 0.2);\">\n",
        "    <h1 style=\"color: #7ab052; text-shadow: 2px 2px 4px rgba(0, 0, 0, 0.5); font-weight: bold; margin-bottom: 10px;\"> 3 | Visualizing The Data</h1>\n",
        "</div>"
      ],
      "metadata": {
        "id": "k2VbulESD3kD"
      }
    },
    {
      "cell_type": "markdown",
      "source": [
        "**WORKING**\n",
        "\n",
        "- The code sets the `path to a directory containing images` of tomato leaves affected by the Tomato Yellow Leaf Curl Virus and so on in the next cells of code.\n",
        "- It retrieves a list of all image file names in the directory.\n",
        "- Using matplotlib, it displays the first 6 images along with their corresponding labels.\n",
        "- For each image, it loads the image, displays it in a subplot, and sets the title to the image label, showing the visual representation of the dataset."
      ],
      "metadata": {
        "id": "YdTR7qpLD3kE"
      }
    },
    {
      "cell_type": "code",
      "source": [
        "# Path to the directory containing images\n",
        "path = \"/kaggle/input/tomatoleaf/tomato/train/Tomato___Tomato_Yellow_Leaf_Curl_Virus\"\n",
        "\n",
        "# Get a list of all image file names in the directory\n",
        "image_files = [f for f in os.listdir(path) if os.path.isfile(os.path.join(path, f))]\n",
        "\n",
        "# Display the first 6 images with their labels\n",
        "fig, axs = plt.subplots(2, 3, figsize=(15, 10))\n",
        "\n",
        "for i in range(6):\n",
        "    # Get the image file name and its label\n",
        "    image_file = image_files[i]\n",
        "    label = image_file.split('.')[0]\n",
        "\n",
        "    # Load and display the image\n",
        "    img_path = os.path.join(path, image_file)\n",
        "    img = mpimg.imread(img_path)\n",
        "    ax = axs[i // 3, i % 3]\n",
        "    ax.imshow(img)\n",
        "    ax.axis('off')\n",
        "    ax.set_title(label)\n",
        "\n",
        "plt.tight_layout()\n",
        "plt.show()"
      ],
      "metadata": {
        "execution": {
          "iopub.status.busy": "2024-02-25T18:08:58.193055Z",
          "iopub.execute_input": "2024-02-25T18:08:58.194077Z",
          "iopub.status.idle": "2024-02-25T18:08:59.785303Z",
          "shell.execute_reply.started": "2024-02-25T18:08:58.194027Z",
          "shell.execute_reply": "2024-02-25T18:08:59.7834Z"
        },
        "trusted": true,
        "id": "SUJ-zCdtD3kE"
      },
      "outputs": [],
      "execution_count": null
    },
    {
      "cell_type": "code",
      "source": [
        "# Path to the directory containing images\n",
        "path = \"/kaggle/input/tomatoleaf/tomato/train/Tomato___Bacterial_spot\"\n",
        "\n",
        "# Get a list of all image file names in the directory\n",
        "image_files = [f for f in os.listdir(path) if os.path.isfile(os.path.join(path, f))]\n",
        "\n",
        "# Display the first 6 images with their labels\n",
        "fig, axs = plt.subplots(2, 3, figsize=(15, 10))\n",
        "\n",
        "for i in range(6):\n",
        "    # Get the image file name and its label\n",
        "    image_file = image_files[i]\n",
        "    label = image_file.split('.')[0]\n",
        "\n",
        "    # Load and display the image\n",
        "    img_path = os.path.join(path, image_file)\n",
        "    img = mpimg.imread(img_path)\n",
        "    ax = axs[i // 3, i % 3]\n",
        "    ax.imshow(img)\n",
        "    ax.axis('off')\n",
        "    ax.set_title(label)\n",
        "\n",
        "plt.tight_layout()\n",
        "plt.show()\n"
      ],
      "metadata": {
        "execution": {
          "iopub.status.busy": "2024-02-25T18:08:59.787911Z",
          "iopub.execute_input": "2024-02-25T18:08:59.788281Z",
          "iopub.status.idle": "2024-02-25T18:09:01.332769Z",
          "shell.execute_reply.started": "2024-02-25T18:08:59.788251Z",
          "shell.execute_reply": "2024-02-25T18:09:01.32841Z"
        },
        "trusted": true,
        "id": "6DNBXoBcD3kE"
      },
      "outputs": [],
      "execution_count": null
    },
    {
      "cell_type": "markdown",
      "source": [
        "<div style=\"border-radius: 30px 0 30px 0px; border: 2px solid #00ea98; padding: 20px; background-color: #0a141b; text-align: center; box-shadow: 0px 2px 4px rgba(0, 0, 0, 0.2);\">\n",
        "    <h1 style=\"color: #7ab052; text-shadow: 2px 2px 4px rgba(0, 0, 0, 0.5); font-weight: bold; margin-bottom: 10px;\">4 | Training The Model</h1>\n",
        "</div>"
      ],
      "metadata": {
        "id": "3hcZJRl2D3kF"
      }
    },
    {
      "cell_type": "markdown",
      "source": [
        "**WORKING**\n",
        "- The code initializes a `DenseNet121` model with weights pre-trained on the ImageNet dataset.\n",
        "- The `include_top=False argument` specifies that the model should not include the fully connected layers at the top of the network, which are typically used for ImageNet classification.\n",
        "- The `input_shape=(256,256,3) argument` specifies the shape of the input images that the model expects, which is `256x256` pixels with 3 channels (RGB).\n",
        "- The initialized model `conv_base` can be used as a feature extractor to extract features from images, which can then be used as input to a custom classification head."
      ],
      "metadata": {
        "id": "GRN1u_jlD3kF"
      }
    },
    {
      "cell_type": "code",
      "source": [
        "conv_base = DenseNet121(\n",
        "    weights='imagenet',\n",
        "    include_top = False,\n",
        "    input_shape=(256,256,3),\n",
        "    pooling='avg'\n",
        ")"
      ],
      "metadata": {
        "execution": {
          "iopub.status.busy": "2024-02-25T18:24:38.998768Z",
          "iopub.execute_input": "2024-02-25T18:24:38.99931Z",
          "iopub.status.idle": "2024-02-25T18:24:42.337024Z",
          "shell.execute_reply.started": "2024-02-25T18:24:38.999277Z",
          "shell.execute_reply": "2024-02-25T18:24:42.336099Z"
        },
        "trusted": true,
        "id": "WNS_aTY1D3kG"
      },
      "outputs": [],
      "execution_count": null
    },
    {
      "cell_type": "markdown",
      "source": [
        "**WHY FALSE ?**\n",
        "- Setting conv_base.trainable = False freezes the weights of the pre-trained DenseNet121 model.\n",
        "- This is done to prevent the weights from being updated during the training of the custom classification head.\n",
        "- Freezing the pre-trained weights helps in utilizing the learned features from the ImageNet dataset without altering them.\n",
        "- It also reduces the computational cost and training time, as only the weights of the custom classification head will be trained."
      ],
      "metadata": {
        "id": "eiXSBj62D3kG"
      }
    },
    {
      "cell_type": "code",
      "source": [
        "conv_base.trainable = False"
      ],
      "metadata": {
        "execution": {
          "iopub.status.busy": "2024-02-25T18:24:42.338696Z",
          "iopub.execute_input": "2024-02-25T18:24:42.339015Z",
          "iopub.status.idle": "2024-02-25T18:24:42.360263Z",
          "shell.execute_reply.started": "2024-02-25T18:24:42.338988Z",
          "shell.execute_reply": "2024-02-25T18:24:42.35929Z"
        },
        "trusted": true,
        "id": "-KwqJBZ8D3kG"
      },
      "outputs": [],
      "execution_count": null
    },
    {
      "cell_type": "code",
      "source": [
        "# # Summary of the pretrained model\n",
        "# conv_base.summary()"
      ],
      "metadata": {
        "execution": {
          "iopub.status.busy": "2024-02-25T18:24:42.361419Z",
          "iopub.execute_input": "2024-02-25T18:24:42.361709Z",
          "iopub.status.idle": "2024-02-25T18:24:42.368622Z",
          "shell.execute_reply.started": "2024-02-25T18:24:42.361683Z",
          "shell.execute_reply": "2024-02-25T18:24:42.367638Z"
        },
        "trusted": true,
        "id": "Ue0d5iK6D3kG"
      },
      "outputs": [],
      "execution_count": null
    },
    {
      "cell_type": "markdown",
      "source": [
        "**WORKING**\n",
        "\n",
        "- It initializes a Sequential model and adds the `pre-trained` DenseNet121` model (conv_base) ` as the base.\n",
        "- The model flattens the output from the base model and adds two fully connected layers with `ReLU activation`.\n",
        "- `Batch normalization` is applied after each fully connected layer to improve training stability and speed."
      ],
      "metadata": {
        "id": "_EuwvDaGD3kH"
      }
    },
    {
      "cell_type": "code",
      "source": [
        "model = Sequential()\n",
        "model.add(conv_base)\n",
        "model.add(BatchNormalization())\n",
        "model.add(Dense(256, activation='relu'))\n",
        "model.add(Dropout(0.35))\n",
        "model.add(BatchNormalization())\n",
        "model.add(Dense(120, activation='relu'))\n",
        "model.add(Dense(10, activation='softmax'))"
      ],
      "metadata": {
        "execution": {
          "iopub.status.busy": "2024-02-25T18:24:42.370612Z",
          "iopub.execute_input": "2024-02-25T18:24:42.370893Z",
          "iopub.status.idle": "2024-02-25T18:24:43.503281Z",
          "shell.execute_reply.started": "2024-02-25T18:24:42.370869Z",
          "shell.execute_reply": "2024-02-25T18:24:43.502101Z"
        },
        "trusted": true,
        "id": "kE-ThPkYD3kH"
      },
      "outputs": [],
      "execution_count": null
    },
    {
      "cell_type": "markdown",
      "source": [
        "**WORKING**\n",
        "\n",
        "- The compile method is used to configure the model for training.\n",
        "- The optimizer=Adam(lr=0.0001) argument specifies the Adam optimizer with a learning rate of 0.0001.\n",
        "- The loss='categorical_crossentropy' argument specifies the loss function used for training, which is categorical crossentropy for multi-class classification.\n",
        "- The metrics=['accuracy'] argument specifies the metric used to evaluate the model, which is accuracy in this case."
      ],
      "metadata": {
        "id": "KgS1OkDdD3kH"
      }
    },
    {
      "cell_type": "code",
      "source": [
        "model.compile(optimizer=Adam(lr=0.0001), loss='categorical_crossentropy', metrics=['accuracy'])"
      ],
      "metadata": {
        "execution": {
          "iopub.status.busy": "2024-02-25T18:24:43.514489Z",
          "iopub.execute_input": "2024-02-25T18:24:43.515624Z",
          "iopub.status.idle": "2024-02-25T18:24:43.538308Z",
          "shell.execute_reply.started": "2024-02-25T18:24:43.515586Z",
          "shell.execute_reply": "2024-02-25T18:24:43.537271Z"
        },
        "trusted": true,
        "id": "Ts8NpOgfD3kI"
      },
      "outputs": [],
      "execution_count": null
    },
    {
      "cell_type": "markdown",
      "source": [
        "**WORKING**\n",
        "- The `fit` method is used to train the model on the training data (`train_data`) for a specified number of epochs (100 in this case).\n",
        "- The `validation_data=val_data` argument specifies the validation data to evaluate the model performance after each epoch.\n",
        "- The `callbacks=[EarlyStopping(patience=0)]` argument specifies the use of early stopping to prevent overfitting. The training will stop if the validation loss does not improve after 0 epochs.\n",
        "- The `history` variable stores the training history, including metrics such as loss and accuracy, which can be used for analysis and visualization."
      ],
      "metadata": {
        "id": "sf62MezjD3kI"
      }
    },
    {
      "cell_type": "code",
      "source": [
        "# history = model.fit(train_ds,epochs=10,validation_data=validation_ds)\n",
        "history = model.fit(train_data, epochs=100, validation_data=val_data, callbacks=[EarlyStopping(patience=0)])"
      ],
      "metadata": {
        "execution": {
          "iopub.status.busy": "2024-02-25T18:24:47.080616Z",
          "iopub.execute_input": "2024-02-25T18:24:47.08102Z",
          "iopub.status.idle": "2024-02-25T18:28:23.492052Z",
          "shell.execute_reply.started": "2024-02-25T18:24:47.080988Z",
          "shell.execute_reply": "2024-02-25T18:28:23.490832Z"
        },
        "trusted": true,
        "id": "xiJW1QzWD3kI"
      },
      "outputs": [],
      "execution_count": null
    },
    {
      "cell_type": "markdown",
      "source": [
        "\n",
        "# **😌 val_accuracy 94% means that, when the model is evaluated on a separate set of data that it has not seen during training or validation, it correctly predicts the outcome 94% of the time. This is a good result and indicates that the model is performing well and generalizes well to new, unseen data.**"
      ],
      "metadata": {
        "id": "okyQG2sWD3kJ"
      }
    },
    {
      "cell_type": "code",
      "source": [
        "# Evaluate the model on the validation data\n",
        "evaluation = model.evaluate(val_data)\n",
        "\n",
        "# Print the evaluation metrics\n",
        "print(\"Validation Loss:\", evaluation[0])\n",
        "print(\"Validation Accuracy:\", evaluation[1])"
      ],
      "metadata": {
        "execution": {
          "iopub.status.busy": "2024-02-25T18:29:34.358496Z",
          "iopub.execute_input": "2024-02-25T18:29:34.359342Z",
          "iopub.status.idle": "2024-02-25T18:29:39.525946Z",
          "shell.execute_reply.started": "2024-02-25T18:29:34.359307Z",
          "shell.execute_reply": "2024-02-25T18:29:39.524829Z"
        },
        "trusted": true,
        "id": "TcBvSiIBD3kJ"
      },
      "outputs": [],
      "execution_count": null
    },
    {
      "cell_type": "markdown",
      "source": [
        "**If you found my Notebook helpful or learned something new, please consider supporting me by upvoting and leaving a comment! 🚀 Your feedback and engagement mean the world to me and motivate me to create more exciting content for you. 🙌 Together, we can continue to learn and grow in the world of Data Science . 💻 Thank you for your support! ❤️**"
      ],
      "metadata": {
        "id": "V-fh5juGD3kK"
      }
    },
    {
      "cell_type": "markdown",
      "source": [
        "<div style=\"border-radius: 30px 0 30px 0px; border: 2px solid #00ea98; padding: 20px; background-color: #0a141b; text-align: center; box-shadow: 0px 2px 4px rgba(0, 0, 0, 0.2);\">\n",
        "    <h1 style=\"color: #7ab052; text-shadow: 2px 2px 4px rgba(0, 0, 0, 0.5); font-weight: bold; margin-bottom: 10px;\">5 | THE END </h1>\n",
        "</div>"
      ],
      "metadata": {
        "id": "bJKPpAXND3kL"
      }
    }
  ]
}